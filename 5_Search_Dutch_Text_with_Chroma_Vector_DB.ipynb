{
 "cells": [
  {
   "cell_type": "code",
   "execution_count": 21,
   "id": "16251c7b",
   "metadata": {},
   "outputs": [
    {
     "name": "stdout",
     "output_type": "stream",
     "text": [
      "Requirement already satisfied: pip in c:\\users\\kvdte\\appdata\\roaming\\python\\python311\\site-packages (23.3.2)\n",
      "Note: you may need to restart the kernel to use updated packages.\n",
      "Collecting ipywidgets\n",
      "  Using cached ipywidgets-8.1.1-py3-none-any.whl.metadata (2.4 kB)\n",
      "Requirement already satisfied: comm>=0.1.3 in c:\\users\\kvdte\\appdata\\roaming\\python\\python311\\site-packages (from ipywidgets) (0.2.0)\n",
      "Requirement already satisfied: ipython>=6.1.0 in c:\\users\\kvdte\\appdata\\roaming\\python\\python311\\site-packages (from ipywidgets) (8.19.0)\n",
      "Requirement already satisfied: traitlets>=4.3.1 in c:\\users\\kvdte\\appdata\\roaming\\python\\python311\\site-packages (from ipywidgets) (5.14.0)\n",
      "Requirement already satisfied: widgetsnbextension~=4.0.9 in c:\\python311\\lib\\site-packages (from ipywidgets) (4.0.9)\n",
      "Requirement already satisfied: jupyterlab-widgets~=3.0.9 in c:\\python311\\lib\\site-packages (from ipywidgets) (3.0.9)\n",
      "Requirement already satisfied: decorator in c:\\users\\kvdte\\appdata\\roaming\\python\\python311\\site-packages (from ipython>=6.1.0->ipywidgets) (5.1.1)\n",
      "Requirement already satisfied: jedi>=0.16 in c:\\users\\kvdte\\appdata\\roaming\\python\\python311\\site-packages (from ipython>=6.1.0->ipywidgets) (0.19.1)\n",
      "Requirement already satisfied: matplotlib-inline in c:\\users\\kvdte\\appdata\\roaming\\python\\python311\\site-packages (from ipython>=6.1.0->ipywidgets) (0.1.6)\n",
      "Requirement already satisfied: prompt-toolkit<3.1.0,>=3.0.41 in c:\\users\\kvdte\\appdata\\roaming\\python\\python311\\site-packages (from ipython>=6.1.0->ipywidgets) (3.0.43)\n",
      "Requirement already satisfied: pygments>=2.4.0 in c:\\users\\kvdte\\appdata\\roaming\\python\\python311\\site-packages (from ipython>=6.1.0->ipywidgets) (2.17.2)\n",
      "Requirement already satisfied: stack-data in c:\\users\\kvdte\\appdata\\roaming\\python\\python311\\site-packages (from ipython>=6.1.0->ipywidgets) (0.6.3)\n",
      "Requirement already satisfied: colorama in c:\\users\\kvdte\\appdata\\roaming\\python\\python311\\site-packages (from ipython>=6.1.0->ipywidgets) (0.4.6)\n",
      "Requirement already satisfied: parso<0.9.0,>=0.8.3 in c:\\users\\kvdte\\appdata\\roaming\\python\\python311\\site-packages (from jedi>=0.16->ipython>=6.1.0->ipywidgets) (0.8.3)\n",
      "Requirement already satisfied: wcwidth in c:\\users\\kvdte\\appdata\\roaming\\python\\python311\\site-packages (from prompt-toolkit<3.1.0,>=3.0.41->ipython>=6.1.0->ipywidgets) (0.2.12)\n",
      "Requirement already satisfied: executing>=1.2.0 in c:\\users\\kvdte\\appdata\\roaming\\python\\python311\\site-packages (from stack-data->ipython>=6.1.0->ipywidgets) (2.0.1)\n",
      "Requirement already satisfied: asttokens>=2.1.0 in c:\\users\\kvdte\\appdata\\roaming\\python\\python311\\site-packages (from stack-data->ipython>=6.1.0->ipywidgets) (2.4.1)\n",
      "Requirement already satisfied: pure-eval in c:\\users\\kvdte\\appdata\\roaming\\python\\python311\\site-packages (from stack-data->ipython>=6.1.0->ipywidgets) (0.2.2)\n",
      "Requirement already satisfied: six>=1.12.0 in c:\\python311\\lib\\site-packages (from asttokens>=2.1.0->stack-data->ipython>=6.1.0->ipywidgets) (1.16.0)\n",
      "Using cached ipywidgets-8.1.1-py3-none-any.whl (139 kB)\n",
      "Installing collected packages: ipywidgets\n",
      "Successfully installed ipywidgets-8.1.1\n",
      "Note: you may need to restart the kernel to use updated packages.\n",
      "Collecting typing-extensions==4.7.1\n",
      "  Downloading typing_extensions-4.7.1-py3-none-any.whl.metadata (3.1 kB)\n",
      "Downloading typing_extensions-4.7.1-py3-none-any.whl (33 kB)\n",
      "Installing collected packages: typing-extensions\n",
      "  Attempting uninstall: typing-extensions\n",
      "    Found existing installation: typing_extensions 4.9.0\n",
      "    Uninstalling typing_extensions-4.9.0:\n",
      "      Successfully uninstalled typing_extensions-4.9.0\n",
      "Successfully installed typing-extensions-4.7.1\n",
      "Note: you may need to restart the kernel to use updated packages.\n"
     ]
    },
    {
     "name": "stderr",
     "output_type": "stream",
     "text": [
      "ERROR: pip's dependency resolver does not currently take into account all the packages that are installed. This behaviour is the source of the following dependency conflicts.\n",
      "fastapi 0.108.0 requires typing-extensions>=4.8.0, but you have typing-extensions 4.7.1 which is incompatible.\n"
     ]
    },
    {
     "name": "stdout",
     "output_type": "stream",
     "text": [
      "Requirement already satisfied: datetime in c:\\python311\\lib\\site-packages (5.4)\n",
      "Requirement already satisfied: zope.interface in c:\\python311\\lib\\site-packages (from datetime) (6.1)\n",
      "Requirement already satisfied: pytz in c:\\python311\\lib\\site-packages (from datetime) (2023.3.post1)\n",
      "Requirement already satisfied: setuptools in c:\\python311\\lib\\site-packages (from zope.interface->datetime) (65.5.0)\n",
      "Note: you may need to restart the kernel to use updated packages.\n",
      "Requirement already satisfied: pandas in c:\\python311\\lib\\site-packages (2.1.4)\n",
      "Requirement already satisfied: numpy<2,>=1.23.2 in c:\\python311\\lib\\site-packages (from pandas) (1.25.2)\n",
      "Requirement already satisfied: python-dateutil>=2.8.2 in c:\\python311\\lib\\site-packages (from pandas) (2.8.2)\n",
      "Requirement already satisfied: pytz>=2020.1 in c:\\python311\\lib\\site-packages (from pandas) (2023.3.post1)\n",
      "Requirement already satisfied: tzdata>=2022.1 in c:\\python311\\lib\\site-packages (from pandas) (2023.3)\n",
      "Requirement already satisfied: six>=1.5 in c:\\python311\\lib\\site-packages (from python-dateutil>=2.8.2->pandas) (1.16.0)\n",
      "Note: you may need to restart the kernel to use updated packages.\n",
      "Requirement already satisfied: numpy in c:\\python311\\lib\\site-packages (1.25.2)\n",
      "Collecting numpy\n",
      "  Using cached numpy-1.26.3-cp311-cp311-win_amd64.whl.metadata (61 kB)\n",
      "Using cached numpy-1.26.3-cp311-cp311-win_amd64.whl (15.8 MB)\n",
      "Installing collected packages: numpy\n",
      "  Attempting uninstall: numpy\n",
      "    Found existing installation: numpy 1.25.2\n",
      "    Uninstalling numpy-1.25.2:\n",
      "      Successfully uninstalled numpy-1.25.2\n",
      "  Rolling back uninstall of numpy\n",
      "  Moving to c:\\python311\\lib\\site-packages\\numpy-1.25.2.dist-info\\\n",
      "   from C:\\Python311\\Lib\\site-packages\\~umpy-1.25.2.dist-info\n",
      "  Moving to c:\\python311\\lib\\site-packages\\numpy\\\n",
      "   from C:\\Python311\\Lib\\site-packages\\~umpy\n",
      "Note: you may need to restart the kernel to use updated packages.\n"
     ]
    },
    {
     "name": "stderr",
     "output_type": "stream",
     "text": [
      "  WARNING: Failed to write executable - trying to use .deleteme logic\n",
      "ERROR: Could not install packages due to an OSError: [WinError 2] Het systeem kan het opgegeven bestand niet vinden: 'c:\\\\Python311\\\\Scripts\\\\f2py.exe' -> 'c:\\\\Python311\\\\Scripts\\\\f2py.exe.deleteme'\n",
      "\n"
     ]
    },
    {
     "name": "stdout",
     "output_type": "stream",
     "text": [
      "Requirement already satisfied: matplotlib in c:\\python311\\lib\\site-packages (3.8.2)\n",
      "Requirement already satisfied: contourpy>=1.0.1 in c:\\python311\\lib\\site-packages (from matplotlib) (1.2.0)\n",
      "Requirement already satisfied: cycler>=0.10 in c:\\python311\\lib\\site-packages (from matplotlib) (0.12.1)\n",
      "Requirement already satisfied: fonttools>=4.22.0 in c:\\python311\\lib\\site-packages (from matplotlib) (4.47.0)\n",
      "Requirement already satisfied: kiwisolver>=1.3.1 in c:\\python311\\lib\\site-packages (from matplotlib) (1.4.5)\n",
      "Requirement already satisfied: numpy<2,>=1.21 in c:\\python311\\lib\\site-packages (from matplotlib) (1.25.2)\n",
      "Requirement already satisfied: packaging>=20.0 in c:\\python311\\lib\\site-packages (from matplotlib) (23.1)\n",
      "Requirement already satisfied: pillow>=8 in c:\\python311\\lib\\site-packages (from matplotlib) (10.2.0)\n",
      "Requirement already satisfied: pyparsing>=2.3.1 in c:\\python311\\lib\\site-packages (from matplotlib) (3.1.1)\n",
      "Requirement already satisfied: python-dateutil>=2.7 in c:\\python311\\lib\\site-packages (from matplotlib) (2.8.2)\n",
      "Requirement already satisfied: six>=1.5 in c:\\python311\\lib\\site-packages (from python-dateutil>=2.7->matplotlib) (1.16.0)\n",
      "Note: you may need to restart the kernel to use updated packages.\n",
      "Requirement already satisfied: scikit-learn in c:\\python311\\lib\\site-packages (1.3.2)\n",
      "Requirement already satisfied: numpy<2.0,>=1.17.3 in c:\\python311\\lib\\site-packages (from scikit-learn) (1.25.2)\n",
      "Requirement already satisfied: scipy>=1.5.0 in c:\\python311\\lib\\site-packages (from scikit-learn) (1.11.4)\n",
      "Requirement already satisfied: joblib>=1.1.1 in c:\\python311\\lib\\site-packages (from scikit-learn) (1.3.2)\n",
      "Requirement already satisfied: threadpoolctl>=2.0.0 in c:\\python311\\lib\\site-packages (from scikit-learn) (3.2.0)\n",
      "Note: you may need to restart the kernel to use updated packages.\n",
      "Note: you may need to restart the kernel to use updated packages.\n"
     ]
    },
    {
     "name": "stderr",
     "output_type": "stream",
     "text": [
      "  WARNING: Failed to write executable - trying to use .deleteme logic\n",
      "ERROR: Could not install packages due to an OSError: [WinError 2] Het systeem kan het opgegeven bestand niet vinden: 'c:\\\\Python311\\\\Scripts\\\\f2py.exe' -> 'c:\\\\Python311\\\\Scripts\\\\f2py.exe.deleteme'\n",
      "\n"
     ]
    },
    {
     "name": "stdout",
     "output_type": "stream",
     "text": [
      "Requirement already satisfied: openai in c:\\users\\kvdte\\appdata\\roaming\\python\\python311\\site-packages (1.6.1)\n",
      "Requirement already satisfied: anyio<5,>=3.5.0 in c:\\users\\kvdte\\appdata\\roaming\\python\\python311\\site-packages (from openai) (4.2.0)\n",
      "Requirement already satisfied: distro<2,>=1.7.0 in c:\\users\\kvdte\\appdata\\roaming\\python\\python311\\site-packages (from openai) (1.9.0)\n",
      "Requirement already satisfied: httpx<1,>=0.23.0 in c:\\users\\kvdte\\appdata\\roaming\\python\\python311\\site-packages (from openai) (0.26.0)\n",
      "Requirement already satisfied: pydantic<3,>=1.9.0 in c:\\users\\kvdte\\appdata\\roaming\\python\\python311\\site-packages (from openai) (2.5.3)\n",
      "Requirement already satisfied: sniffio in c:\\users\\kvdte\\appdata\\roaming\\python\\python311\\site-packages (from openai) (1.3.0)\n",
      "Requirement already satisfied: tqdm>4 in c:\\python311\\lib\\site-packages (from openai) (4.66.1)\n",
      "Requirement already satisfied: typing-extensions<5,>=4.7 in c:\\python311\\lib\\site-packages (from openai) (4.9.0)\n",
      "Requirement already satisfied: idna>=2.8 in c:\\python311\\lib\\site-packages (from anyio<5,>=3.5.0->openai) (3.4)\n",
      "Requirement already satisfied: certifi in c:\\python311\\lib\\site-packages (from httpx<1,>=0.23.0->openai) (2023.7.22)\n",
      "Requirement already satisfied: httpcore==1.* in c:\\users\\kvdte\\appdata\\roaming\\python\\python311\\site-packages (from httpx<1,>=0.23.0->openai) (1.0.2)\n",
      "Requirement already satisfied: h11<0.15,>=0.13 in c:\\users\\kvdte\\appdata\\roaming\\python\\python311\\site-packages (from httpcore==1.*->httpx<1,>=0.23.0->openai) (0.14.0)\n",
      "Requirement already satisfied: annotated-types>=0.4.0 in c:\\users\\kvdte\\appdata\\roaming\\python\\python311\\site-packages (from pydantic<3,>=1.9.0->openai) (0.6.0)\n",
      "Requirement already satisfied: pydantic-core==2.14.6 in c:\\users\\kvdte\\appdata\\roaming\\python\\python311\\site-packages (from pydantic<3,>=1.9.0->openai) (2.14.6)\n",
      "Requirement already satisfied: colorama in c:\\users\\kvdte\\appdata\\roaming\\python\\python311\\site-packages (from tqdm>4->openai) (0.4.6)\n",
      "Note: you may need to restart the kernel to use updated packages.\n"
     ]
    }
   ],
   "source": [
    "# Author Kees van den Tempel, AI-labs BV, Tricht (kees@ai-labs.nl)\n",
    "# Versie 1.1  -- Update voor nieuwe Api van OpenAI\n",
    "# 4-1-2024\n",
    "\n",
    "# This script reads 15630 questions and answers (QA) of the products and services of the dutch government and makes\n",
    "# it semantic searchable by using the Chroma vector database\n",
    "\n",
    "# When the QA-dataset is read into the database, it is embedded, using the standard Chroma emmbedding algorithm\n",
    "# When all the data is in the Chroma database it is possible to serach for identical questions and for the best\n",
    "# answers\n",
    "\n",
    "# Kijk ook op https://thenewstack.io/tutorial-use-chroma-and-openai-to-build-a-custom-qa-bot/\n",
    "\n",
    "%pip install --upgrade pip\n",
    "%pip install ipywidgets\n",
    "%pip install typing-extensions==4.7.1\n",
    "%pip install --upgrade datetime\n",
    "%pip install pandas --upgrade\n",
    "%pip install numpy --upgrade\n",
    "%pip install --upgrade matplotlib\n",
    "%pip install --upgrade scikit-learn\n",
    "\n",
    "%pip install -Uq chromadb numpy datasets\n",
    "%pip install openai --upgrade\n"
   ]
  },
  {
   "cell_type": "code",
   "execution_count": 15,
   "id": "99dfacf1",
   "metadata": {},
   "outputs": [
    {
     "name": "stdout",
     "output_type": "stream",
     "text": [
      "<class 'pandas.core.frame.DataFrame'>\n",
      "RangeIndex: 15618 entries, 0 to 15617\n",
      "Data columns (total 11 columns):\n",
      " #   Column               Non-Null Count  Dtype \n",
      "---  ------               --------------  ----- \n",
      " 0   Vraag                15618 non-null  object\n",
      " 1   Antwoord             15618 non-null  object\n",
      " 2   Nummer               15618 non-null  int64 \n",
      " 3   Instantie            15618 non-null  object\n",
      " 4   UniformeProductnaam  15618 non-null  object\n",
      " 5   Grondslaglabel       15618 non-null  object\n",
      " 6   Overheid             15618 non-null  object\n",
      " 7   SoortProduct         15618 non-null  object\n",
      " 8   Klant                15618 non-null  object\n",
      " 9   Prompt2              15618 non-null  object\n",
      " 10  ID                   15618 non-null  int64 \n",
      "dtypes: int64(2), object(9)\n",
      "memory usage: 1.3+ MB\n",
      "None\n"
     ]
    }
   ],
   "source": [
    "import numpy as np\n",
    "import pandas as pd\n",
    "import openai\n",
    "import time\n",
    "import json\n",
    "\n",
    "# Read the file with the most-asked Q&A of the products and service of all Dutch governments\n",
    "QAdata = pd.read_csv(\"data/NL_ProdenDienstenQA.csv\", decimal=\".\", sep=\"#\")\n",
    "QAdata['ID'] = QAdata.index\n",
    "\n",
    "print(QAdata.info())"
   ]
  },
  {
   "cell_type": "code",
   "execution_count": 16,
   "id": "8be18491",
   "metadata": {},
   "outputs": [
    {
     "data": {
      "text/html": [
       "<div>\n",
       "<style scoped>\n",
       "    .dataframe tbody tr th:only-of-type {\n",
       "        vertical-align: middle;\n",
       "    }\n",
       "\n",
       "    .dataframe tbody tr th {\n",
       "        vertical-align: top;\n",
       "    }\n",
       "\n",
       "    .dataframe thead th {\n",
       "        text-align: right;\n",
       "    }\n",
       "</style>\n",
       "<table border=\"1\" class=\"dataframe\">\n",
       "  <thead>\n",
       "    <tr style=\"text-align: right;\">\n",
       "      <th></th>\n",
       "      <th>Vraag</th>\n",
       "      <th>Antwoord</th>\n",
       "      <th>Nummer</th>\n",
       "      <th>Instantie</th>\n",
       "      <th>UniformeProductnaam</th>\n",
       "      <th>Grondslaglabel</th>\n",
       "      <th>Overheid</th>\n",
       "      <th>SoortProduct</th>\n",
       "      <th>Klant</th>\n",
       "      <th>Prompt2</th>\n",
       "      <th>ID</th>\n",
       "    </tr>\n",
       "  </thead>\n",
       "  <tbody>\n",
       "    <tr>\n",
       "      <th>0</th>\n",
       "      <td>Wat is een aanvullende beurs kwijtschelding?</td>\n",
       "      <td>Een aanvullende beurs kwijtschelding is een fi...</td>\n",
       "      <td>1</td>\n",
       "      <td>Dienst Uitvoering Onderwijs (DUO)</td>\n",
       "      <td>aanvullende beurs kwijtschelding</td>\n",
       "      <td>Artikel 6.2 Wet studiefinanciering 2000</td>\n",
       "      <td>de Nederlandse Rijksoverheid</td>\n",
       "      <td>een aanvraag doen</td>\n",
       "      <td>burger</td>\n",
       "      <td>Een burger uit Nederland wil een aanvraag doen...</td>\n",
       "      <td>0</td>\n",
       "    </tr>\n",
       "  </tbody>\n",
       "</table>\n",
       "</div>"
      ],
      "text/plain": [
       "                                          Vraag  \\\n",
       "0  Wat is een aanvullende beurs kwijtschelding?   \n",
       "\n",
       "                                            Antwoord  Nummer  \\\n",
       "0  Een aanvullende beurs kwijtschelding is een fi...       1   \n",
       "\n",
       "                           Instantie               UniformeProductnaam  \\\n",
       "0  Dienst Uitvoering Onderwijs (DUO)  aanvullende beurs kwijtschelding   \n",
       "\n",
       "                            Grondslaglabel                      Overheid  \\\n",
       "0  Artikel 6.2 Wet studiefinanciering 2000  de Nederlandse Rijksoverheid   \n",
       "\n",
       "        SoortProduct   Klant  \\\n",
       "0  een aanvraag doen  burger   \n",
       "\n",
       "                                             Prompt2  ID  \n",
       "0  Een burger uit Nederland wil een aanvraag doen...   0  "
      ]
     },
     "execution_count": 16,
     "metadata": {},
     "output_type": "execute_result"
    }
   ],
   "source": [
    "QAdata.head(1)"
   ]
  },
  {
   "cell_type": "code",
   "execution_count": 23,
   "id": "265aa9a7",
   "metadata": {},
   "outputs": [
    {
     "name": "stdout",
     "output_type": "stream",
     "text": [
      "Geen Dutch_QA_collection collection aanwezig\n"
     ]
    }
   ],
   "source": [
    "import typing_extensions\n",
    "from importlib import reload\n",
    "reload(typing_extensions)\n",
    "import chromadb\n",
    "\n",
    "# Delete a collection and all associated embeddings, documents, and metadata. ⚠️ This is destructive and not reversible\n",
    "try:\n",
    "    chroma_client = chromadb.PersistentClient(path=\"data/chroma\")\n",
    "    chroma_client.delete_collection(name=\"Dutch_QA_collection\") \n",
    "except:\n",
    "    print(\"Geen Dutch_QA_collection collection aanwezig\")\n",
    "    \n",
    "collection = chroma_client.create_collection(name=\"Dutch_QA_collection\")\n"
   ]
  },
  {
   "cell_type": "code",
   "execution_count": 24,
   "id": "ed34c855",
   "metadata": {},
   "outputs": [
    {
     "name": "stdout",
     "output_type": "stream",
     "text": [
      "Index: 0, Value: {'ProductID': 0}\n",
      "Index: 10, Value: {'ProductID': 10}\n",
      "Index: 20, Value: {'ProductID': 20}\n",
      "Index: 30, Value: {'ProductID': 30}\n",
      "Index: 40, Value: {'ProductID': 40}\n",
      "Index: 50, Value: {'ProductID': 50}\n",
      "Index: 60, Value: {'ProductID': 60}\n",
      "Index: 70, Value: {'ProductID': 70}\n",
      "Index: 80, Value: {'ProductID': 80}\n",
      "Index: 90, Value: {'ProductID': 90}\n",
      "Length of metadatas: 15618\n"
     ]
    }
   ],
   "source": [
    "# Convert the list of product names into the desired format\n",
    "QAMeta = [{\"ProductID\": product} for product in QAdata['ID']]\n",
    "\n",
    "for index in range(0, len(QAMeta[:100]), 10):\n",
    "    print(f\"Index: {index}, Value: {QAMeta[index]}\")\n",
    "    \n",
    "# Print the length of the metadatas list\n",
    "print(\"Length of metadatas:\", len(QAMeta))"
   ]
  },
  {
   "cell_type": "code",
   "execution_count": 26,
   "id": "f33ed920",
   "metadata": {},
   "outputs": [],
   "source": [
    "#QAdata['Document'] = \"VRAAG: \" + QAdata['Vraag'] + \"ANTWOORD: \" + QAdata['Antwoord'] + \"\\n\"\n",
    "\n",
    "# Assume QAList, QAMeta, and QAIds are your original data lists\n",
    "batch_size = 5460  # Set to the maximum allowed batch size\n",
    "num_batches = len(QAList) // batch_size + (1 if len(QAList) % batch_size > 0 else 0)\n",
    "\n",
    "for i in range(num_batches):\n",
    "    start_index = i * batch_size\n",
    "    end_index = start_index + batch_size\n",
    "    batch_QAList = QAList[start_index:end_index]\n",
    "    batch_QAMeta = QAMeta[start_index:end_index]\n",
    "    batch_QAIds = QAIds[start_index:end_index]\n",
    "\n",
    "    # Process each batch\n",
    "    try:\n",
    "        collection.add(\n",
    "            documents=batch_QAList,\n",
    "            metadatas=batch_QAMeta,\n",
    "            ids=batch_QAIds\n",
    "        )\n",
    "    except Exception as e:\n",
    "        print(f\"Error processing batch {i}: {e}\")\n"
   ]
  },
  {
   "cell_type": "code",
   "execution_count": 27,
   "id": "2a6e8eda",
   "metadata": {},
   "outputs": [],
   "source": [
    "collection = chroma_client.get_collection(name=\"Dutch_QA_collection\")\n",
    "Q = \"ik wil een omgevingsvergunning aanvragen?\"\n",
    "\n",
    "results = collection.query(\n",
    "    query_texts=[Q],\n",
    "    n_results=30\n",
    ")"
   ]
  },
  {
   "cell_type": "code",
   "execution_count": 28,
   "id": "2e772340",
   "metadata": {},
   "outputs": [
    {
     "name": "stdout",
     "output_type": "stream",
     "text": [
      "    Metadata                                                 Document  \\\n",
      "0       1512            Hoe kan ik een omgevingsvergunning aanvragen?   \n",
      "8       5244     Hoe kan ik een omgevingsvergunning aanleg aanvragen?   \n",
      "12      3522     Hoe kan ik een omgevingsvergunning uitweg aanvragen?   \n",
      "20      5254  Hoe kan ik een omgevingsvergunning afwijking aanvragen?   \n",
      "22     10718   Hoe kan ik een woningbemiddelingsvergunning aanvragen?   \n",
      "23      5324     Hoe kan ik een omgevingsvergunning natuur aanvragen?   \n",
      "25      5334     Hoe kan ik een omgevingsvergunning opslag aanvragen?   \n",
      "26      1652         Hoe kan ik een ontgrondingsvergunning aanvragen?   \n",
      "\n",
      "    Distance  \n",
      "0   0.182463  \n",
      "8   0.194487  \n",
      "12  0.228119  \n",
      "20  0.242482  \n",
      "22  0.246985  \n",
      "23  0.249920  \n",
      "25  0.250155  \n",
      "26  0.262419  \n"
     ]
    }
   ],
   "source": [
    "# Convert the results to a DataFrame\n",
    "df = pd.DataFrame({\n",
    "    'ID': results['ids'][0],\n",
    "    'Distance': results['distances'][0],\n",
    "    'Metadata': results['metadatas'][0],\n",
    "    'Document': results['documents'][0]\n",
    "})\n",
    "\n",
    "df = df.drop_duplicates(subset=['Document', 'Distance'])\n",
    "df['Metadata'] = df['Metadata'].apply(lambda x: x.get('ProductID') if isinstance(x, dict) else x)\n",
    "df['Metadata'] = df['Metadata'].astype(int)\n",
    "\n",
    "# Display the DataFrame\n",
    "pd.set_option('display.max_colwidth', None)\n",
    "print(df[['Metadata', 'Document', 'Distance']])"
   ]
  },
  {
   "cell_type": "code",
   "execution_count": 30,
   "id": "27bb56bf",
   "metadata": {},
   "outputs": [
    {
     "name": "stdout",
     "output_type": "stream",
     "text": [
      "Het is moeilijk om te zeggen wat de beste auto is die Volvo ooit heeft gemaakt, omdat dit afhangt van persoonlijke voorkeuren en behoeften. Volvo staat bekend om het produceren van veilige en betrouwbare auto's, en er zijn verschillende modellen die als hoogtepunten worden beschouwd. Enkele van de meest geprezen Volvo-modellen zijn onder andere de Volvo XC90, een luxe SUV met geavanceerde veiligheidsvoorzieningen, en de Volvo 240, een iconische en duurzame sedan die decennialang populair was. Het is belangrijk om te overwegen welke functies en specificaties voor jou het belangrijkst zijn bij het bepalen van de beste Volvo-auto.\n"
     ]
    }
   ],
   "source": [
    "from openai import OpenAI\n",
    "import os\n",
    "from dotenv import load_dotenv\n",
    "load_dotenv()\n",
    "\n",
    "OPENAI_API_KEY = os.getenv('OPENAI_API_KEY')\n",
    "\n",
    "def get_completion(prompt, model=\"gpt-3.5-turbo\"):\n",
    "\n",
    "    #This function takes a prompt and uses the OpenAI API to generate a chat completion response based on the given prompt.\n",
    "\n",
    "    #Parameters:\n",
    "    #    prompt (str): The input text prompt provided by the user.\n",
    "    #    model (str): The name or identifier of the language model to be used for chat completion.\n",
    "    #                 Default value is \"gpt-3.5-turbo\", which is a variant of the GPT-3.5 model.\n",
    "\n",
    "    #Returns:\n",
    "    #    str or None: The chat completion response generated by the model, or None if the API call fails.\n",
    "\n",
    "    #Note:\n",
    "    #    Before using this function, you need to have a valid OpenAI API key to authorize the API calls.\n",
    "    #    The API key should be set as `openai.api_key` before invoking this function.\n",
    "\n",
    "    client = OpenAI(api_key=OPENAI_API_KEY)\n",
    "\n",
    "    # openai.api_key = MyApiKey\n",
    "    messages = [{\"role\": \"user\", \"content\": prompt}]\n",
    "    try:\n",
    "        response = client.chat.completions.create(\n",
    "            model=model,\n",
    "            messages=messages,\n",
    "            temperature=0 \n",
    "        )\n",
    "        txtTmp = response.choices[0].message.content\n",
    "        return txtTmp\n",
    "    except openai.OpenAIError as e:\n",
    "        print(f\"OpenAI API call failed: {e}\")\n",
    "        return None\n",
    "\n",
    "result = get_completion(\"Wat is de beste auto die Volvo ooit gemaakt heeft?\")\n",
    "print(result)\n"
   ]
  },
  {
   "cell_type": "code",
   "execution_count": 31,
   "id": "ec55a055",
   "metadata": {},
   "outputs": [],
   "source": [
    "# Merge the dataframes\n",
    "merged_df = pd.merge(QAdata, df, left_on='ID', right_on='Metadata', how='inner')\n",
    "\n",
    "# Sorting the merged dataframe by Metadata\n",
    "sorted_df = merged_df.sort_values(by='Metadata')\n"
   ]
  },
  {
   "cell_type": "code",
   "execution_count": 38,
   "id": "7558dda1",
   "metadata": {},
   "outputs": [
    {
     "name": "stdout",
     "output_type": "stream",
     "text": [
      "VRAAG AAN CHATGPT:\n",
      "Ik ben een gemeente en een burger stelt de volgende vraag: ik wil een omgevingsvergunning aanvragen?\n",
      "Wij hebben de drie volgende antwoorden gevonden: \n",
      "###U kunt een omgevingsvergunning aanvragen bij de gemeente waarin de activiteit plaatsvindt. Dit kan meestal online via de website van de gemeente. U dient hiervoor een aanvraagformulier in te vullen en de benodigde documenten mee te sturen.\n",
      "\n",
      "U kunt een ontgrondingsvergunning aanvragen bij de Nederlandse Rijksoverheid. Hiervoor dient u een aanvraagformulier in te vullen en de benodigde documenten en informatie te verstrekken. Het aanvraagformulier en verdere instructies zijn te vinden op de website van de Rijksoverheid.\n",
      "\n",
      "U kunt een omgevingsvergunning uitweg aanvragen bij uw gemeente. Neem contact op met de gemeente en vraag naar de procedure en benodigde documenten.###\n",
      "Kun je de vraag en de antwoorden tot één samenhangende tekst omschrijven? Kun je dit doen op taalniveau b1?\n",
      "\n",
      "\n",
      "ANTWOORD VAN OPENAI:\n",
      "Als gemeente kunt u een omgevingsvergunning aanvragen bij de gemeente waarin de activiteit plaatsvindt. Dit kan meestal online via de website van de gemeente. U dient hiervoor een aanvraagformulier in te vullen en de benodigde documenten mee te sturen. Als u een ontgrondingsvergunning wilt aanvragen, kunt u dit doen bij de Nederlandse Rijksoverheid. Hiervoor moet u een aanvraagformulier invullen en de benodigde documenten en informatie verstrekken. Het aanvraagformulier en verdere instructies zijn te vinden op de website van de Rijksoverheid. Als u een omgevingsvergunning voor een uitweg wilt aanvragen, kunt u contact opnemen met uw gemeente. Zij kunnen u informeren over de procedure en de benodigde documenten.\n"
     ]
    }
   ],
   "source": [
    "# Select the 'Document' column of the first three records\n",
    "documents = sorted_df['Antwoord'].iloc[:3]\n",
    "\n",
    "# Concatenate the three text values with a separator (e.g., two newlines)\n",
    "Antwoorden = \"\\n\\n\".join(documents)\n",
    "\n",
    "prompt = \"Ik ben een gemeente en een burger stelt de volgende vraag: \" + Q + \"\\n\"\n",
    "prompt = prompt + \"Wij hebben de drie volgende antwoorden gevonden: \\n###\" + Antwoorden + \"###\\n\"\n",
    "prompt = prompt + \"Kun je de vraag en de antwoorden tot één samenhangende tekst omschrijven? \" \n",
    "prompt = prompt + \"Kun je dit doen op taalniveau b1?\"\n",
    "\n",
    "print(\"VRAAG AAN CHATGPT:\")\n",
    "print(prompt)\n",
    "\n",
    "print(\"\\n\\nANTWOORD VAN OPENAI:\")\n",
    "print(get_completion(prompt, model=\"gpt-3.5-turbo\"))"
   ]
  },
  {
   "cell_type": "code",
   "execution_count": null,
   "id": "6e6dfc59",
   "metadata": {},
   "outputs": [],
   "source": []
  }
 ],
 "metadata": {
  "kernelspec": {
   "display_name": "Python 3 (ipykernel)",
   "language": "python",
   "name": "python3"
  },
  "language_info": {
   "codemirror_mode": {
    "name": "ipython",
    "version": 3
   },
   "file_extension": ".py",
   "mimetype": "text/x-python",
   "name": "python",
   "nbconvert_exporter": "python",
   "pygments_lexer": "ipython3",
   "version": "3.11.2"
  }
 },
 "nbformat": 4,
 "nbformat_minor": 5
}
